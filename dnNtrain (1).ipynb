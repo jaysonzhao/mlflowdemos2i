{
 "cells": [
  {
   "cell_type": "code",
   "execution_count": null,
   "id": "d570874b-81cd-4494-8d04-d45778921299",
   "metadata": {},
   "outputs": [],
   "source": [
    "import botocore\n",
    "import os\n",
    "\n",
    "from boto3.session import Session\n",
    "\n",
    "aws_access_key_id = 'rlg3RIJpViBys2l59VFZ'\n",
    "aws_secret_access_key = 'mEphDoZfzsEQbqBZHA2dKFLTrcAu3sdztslE3oR4'\n",
    "\n",
    "session = Session(aws_access_key_id=aws_access_key_id, aws_secret_access_key=aws_secret_access_key)\n",
    "\n",
    "# 连接到minio\n",
    "s3 = session.resource('s3', endpoint_url='http://s3-minio.apps.rosa-ncv66.pek7.p1.openshiftapps.com')\n",
    "\n",
    "# 查看所有bucket\n",
    "for bucket in s3.buckets.all():\n",
    "    print('bucket name:%s' % bucket.name)"
   ]
  },
  {
   "cell_type": "code",
   "execution_count": null,
   "id": "455e831f-ff4b-483f-aa29-195a88f12283",
   "metadata": {},
   "outputs": [],
   "source": [
    "def download_s3_folder(bucket_name, s3_folder, local_dir=None):\n",
    "    \"\"\"\n",
    "    Download the contents of a folder directory\n",
    "    Args:\n",
    "        bucket_name: the name of the s3 bucket\n",
    "        s3_folder: the folder path in the s3 bucket\n",
    "        local_dir: a relative or absolute directory path in the local file system\n",
    "    \"\"\"\n",
    "    bucket = s3.Bucket(bucket_name)\n",
    "    for obj in bucket.objects.filter(Prefix=s3_folder):\n",
    "        target = obj.key if local_dir is None \\\n",
    "            else os.path.join(local_dir, os.path.relpath(obj.key, s3_folder))\n",
    "        if not os.path.exists(os.path.dirname(target)):\n",
    "            os.makedirs(os.path.dirname(target))\n",
    "        if obj.key[-1] == '/':\n",
    "            continue\n",
    "        bucket.download_file(obj.key, target)"
   ]
  },
  {
   "cell_type": "code",
   "execution_count": null,
   "id": "0a14afbf-ea9e-4107-bd2c-aeb160326e0d",
   "metadata": {},
   "outputs": [],
   "source": [
    "download_s3_folder(\"mlflow\", \"1/ed37c6af53f44129be30e3b1e43b126d/artifacts/DialoGPT\", \"./tests3\")"
   ]
  },
  {
   "cell_type": "code",
   "execution_count": null,
   "id": "0cb5fa21-e2e5-4db8-8283-80a44a6f3909",
   "metadata": {},
   "outputs": [],
   "source": [
    "!pip install -U transformers\n",
    "!pip install datasets\n",
    "!pip install -U accelerate\n"
   ]
  },
  {
   "cell_type": "code",
   "execution_count": 1,
   "id": "0a2452ed-2a34-41f3-a63b-85c5245ec40e",
   "metadata": {},
   "outputs": [],
   "source": [
    "import numpy as np\n",
    "import tempfile\n",
    "from datasets import load_dataset\n",
    "from transformers import GPT2Tokenizer, GPT2LMHeadModel, TrainingArguments, Trainer"
   ]
  },
  {
   "cell_type": "code",
   "execution_count": 2,
   "id": "7abf17fa-0669-44c7-9a29-04704e099173",
   "metadata": {},
   "outputs": [],
   "source": [
    "import os\n",
    "import torch\n",
    "os.environ[\"PYTORCH_CUDA_ALLOC_CONF\"] = \"max_split_size_mb:24\"\n",
    "torch.cuda.empty_cache() "
   ]
  },
  {
   "cell_type": "code",
   "execution_count": 3,
   "id": "870b9554-578f-4927-aad3-64c8c52ae5a5",
   "metadata": {},
   "outputs": [],
   "source": [
    "# Load the DailyDialog dataset\n",
    "dataset = load_dataset('daily_dialog')\n",
    "\n",
    "# Concatenate all utterances within a dialogue and map to 'dialog' key\n",
    "def concatenate_utterances(example):\n",
    "    example['dialog'] = \" \".join(example['dialog'])\n",
    "    return example\n",
    "\n",
    "# Apply the function to all examples in the dataset\n",
    "dataset = dataset.map(concatenate_utterances)"
   ]
  },
  {
   "cell_type": "code",
   "execution_count": 4,
   "id": "53c469dc-7782-420d-8af7-8147ac008c7c",
   "metadata": {},
   "outputs": [
    {
     "data": {
      "application/vnd.jupyter.widget-view+json": {
       "model_id": "ba334ed96ed746b8bd448c10a96e1ca6",
       "version_major": 2,
       "version_minor": 0
      },
      "text/plain": [
       "Loading checkpoint shards:   0%|          | 0/7 [00:00<?, ?it/s]"
      ]
     },
     "metadata": {},
     "output_type": "display_data"
    }
   ],
   "source": [
    "# Load the tokenizer and model\n",
    "tokenizer = GPT2Tokenizer.from_pretrained('./tests3/components/tokenizer')\n",
    "tokenizer.pad_token = tokenizer.eos_token\n",
    "model = GPT2LMHeadModel.from_pretrained('./tests3/model/')"
   ]
  },
  {
   "cell_type": "code",
   "execution_count": 5,
   "id": "0553b732-aa8f-47eb-8f2a-0baf68eb078b",
   "metadata": {},
   "outputs": [],
   "source": [
    "# Encode the dataset\n",
    "def encode(examples):\n",
    "    encoded = tokenizer(examples['dialog'], truncation=True, padding='max_length', max_length=128)\n",
    "    encoded['labels'] = encoded['input_ids'][:]\n",
    "    return encoded\n",
    "\n",
    "encoded_dataset = dataset.map(encode, batched=True)"
   ]
  },
  {
   "cell_type": "code",
   "execution_count": 6,
   "id": "ddff6155-0da4-4c5b-8ee5-d9d77a7f33c6",
   "metadata": {},
   "outputs": [
    {
     "name": "stderr",
     "output_type": "stream",
     "text": [
      "Detected kernel version 4.18.0, which is below the recommended minimum of 5.5.0; this can cause the process to hang. It is recommended to upgrade the kernel to the minimum version or higher.\n"
     ]
    }
   ],
   "source": [
    "# Define training arguments\n",
    "training_args = TrainingArguments(\n",
    "    output_dir=tempfile.mkdtemp(),   # output directory\n",
    "    num_train_epochs=5,             # total number of training epochs\n",
    "    per_device_train_batch_size=2,  # batch size per device during training\n",
    "    per_device_eval_batch_size=2,   # batch size for evaluation\n",
    "    warmup_steps=200,                # number of warmup steps for learning rate scheduler\n",
    "    weight_decay=0.01,               # strength of weight decay\n",
    "    logging_dir=None,                # directory for storing logs\n",
    "    fp16=True                        # use floating point 16 bit precision for training\n",
    ")\n",
    "\n",
    "# Create Trainer\n",
    "trainer = Trainer(\n",
    "    model=model,\n",
    "    args=training_args,\n",
    "    train_dataset=encoded_dataset['train'],\n",
    "    eval_dataset=encoded_dataset['validation']\n",
    ")"
   ]
  },
  {
   "cell_type": "code",
   "execution_count": 7,
   "id": "14edfd47-d82f-4fe4-9d04-dd6ed97a136d",
   "metadata": {},
   "outputs": [
    {
     "data": {
      "text/html": [],
      "text/plain": [
       "<IPython.core.display.HTML object>"
      ]
     },
     "metadata": {},
     "output_type": "display_data"
    }
   ],
   "source": [
    "# Evaluate before fine-tuning\n",
    "pre_eval_results = trainer.evaluate(encoded_dataset['validation'])\n",
    "\n",
    "# Get predictions for validation set before fine tuning for 10 samples\n",
    "pre_val_predictions = trainer.predict(encoded_dataset['validation'].select(range(10)))"
   ]
  },
  {
   "cell_type": "code",
   "execution_count": null,
   "id": "17743328-6267-446b-a96f-a3f8ea0ec01b",
   "metadata": {},
   "outputs": [
    {
     "data": {
      "text/html": [
       "\n",
       "    <div>\n",
       "      \n",
       "      <progress value='128' max='27795' style='width:300px; height:20px; vertical-align: middle;'></progress>\n",
       "      [  128/27795 01:04 < 3:54:53, 1.96 it/s, Epoch 0.02/5]\n",
       "    </div>\n",
       "    <table border=\"1\" class=\"dataframe\">\n",
       "  <thead>\n",
       " <tr style=\"text-align: left;\">\n",
       "      <th>Step</th>\n",
       "      <th>Training Loss</th>\n",
       "    </tr>\n",
       "  </thead>\n",
       "  <tbody>\n",
       "  </tbody>\n",
       "</table><p>"
      ],
      "text/plain": [
       "<IPython.core.display.HTML object>"
      ]
     },
     "metadata": {},
     "output_type": "display_data"
    }
   ],
   "source": [
    "\n",
    "# Fine-tune the model\n",
    "trainer.train()"
   ]
  },
  {
   "cell_type": "code",
   "execution_count": null,
   "id": "989ca9f7-8def-4929-a858-815e216bc8da",
   "metadata": {},
   "outputs": [],
   "source": []
  }
 ],
 "metadata": {
  "kernelspec": {
   "display_name": "Python 3.9",
   "language": "python",
   "name": "python3"
  },
  "language_info": {
   "codemirror_mode": {
    "name": "ipython",
    "version": 3
   },
   "file_extension": ".py",
   "mimetype": "text/x-python",
   "name": "python",
   "nbconvert_exporter": "python",
   "pygments_lexer": "ipython3",
   "version": "3.9.16"
  }
 },
 "nbformat": 4,
 "nbformat_minor": 5
}
