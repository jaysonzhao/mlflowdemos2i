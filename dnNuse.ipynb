{
 "cells": [
  {
   "cell_type": "code",
   "execution_count": 1,
   "id": "d570874b-81cd-4494-8d04-d45778921299",
   "metadata": {},
   "outputs": [
    {
     "name": "stdout",
     "output_type": "stream",
     "text": [
      "bucket name:mlflow\n",
      "bucket name:pipelines\n"
     ]
    }
   ],
   "source": [
    "import botocore\n",
    "import os\n",
    "\n",
    "from boto3.session import Session\n",
    "\n",
    "aws_access_key_id = 'rlg3RIJpViBys2l59VFZ'\n",
    "aws_secret_access_key = 'mEphDoZfzsEQbqBZHA2dKFLTrcAu3sdztslE3oR4'\n",
    "\n",
    "session = Session(aws_access_key_id=aws_access_key_id, aws_secret_access_key=aws_secret_access_key)\n",
    "\n",
    "# 连接到minio\n",
    "s3 = session.resource('s3', endpoint_url='http://minio-service.minio.svc.cluster.local:9000')\n",
    "\n",
    "# 查看所有bucket\n",
    "for bucket in s3.buckets.all():\n",
    "    print('bucket name:%s' % bucket.name)"
   ]
  },
  {
   "cell_type": "code",
   "execution_count": 2,
   "id": "455e831f-ff4b-483f-aa29-195a88f12283",
   "metadata": {},
   "outputs": [],
   "source": [
    "def download_s3_folder(bucket_name, s3_folder, local_dir=None):\n",
    "    \"\"\"\n",
    "    Download the contents of a folder directory\n",
    "    Args:\n",
    "        bucket_name: the name of the s3 bucket\n",
    "        s3_folder: the folder path in the s3 bucket\n",
    "        local_dir: a relative or absolute directory path in the local file system\n",
    "    \"\"\"\n",
    "    bucket = s3.Bucket(bucket_name)\n",
    "    for obj in bucket.objects.filter(Prefix=s3_folder):\n",
    "        target = obj.key if local_dir is None \\\n",
    "            else os.path.join(local_dir, os.path.relpath(obj.key, s3_folder))\n",
    "        if not os.path.exists(os.path.dirname(target)):\n",
    "            os.makedirs(os.path.dirname(target))\n",
    "        if obj.key[-1] == '/':\n",
    "            continue\n",
    "        bucket.download_file(obj.key, target)"
   ]
  },
  {
   "cell_type": "code",
   "execution_count": 3,
   "id": "0a14afbf-ea9e-4107-bd2c-aeb160326e0d",
   "metadata": {},
   "outputs": [],
   "source": [
    "download_s3_folder(\"mlflow\", \"1/ed37c6af53f44129be30e3b1e43b126d/artifacts/DialoGPT\", \"./tests3\")"
   ]
  },
  {
   "cell_type": "code",
   "execution_count": null,
   "id": "038364ed-7903-4c70-9e07-5cb02b9282b8",
   "metadata": {},
   "outputs": [],
   "source": [
    "!pip install transformers\n",
    "!pip install torch"
   ]
  },
  {
   "cell_type": "code",
   "execution_count": null,
   "id": "0cb5fa21-e2e5-4db8-8283-80a44a6f3909",
   "metadata": {},
   "outputs": [],
   "source": [
    "from transformers import AutoModelForCausalLM, AutoTokenizer\n",
    "import torch\n",
    "\n",
    "\n",
    "tokenizer = AutoTokenizer.from_pretrained(\"./tests3/components/tokenizer\")\n",
    "model = AutoModelForCausalLM.from_pretrained(\"./tests3/model/\")\n",
    "\n",
    "# Let's chat for 5 lines\n",
    "for step in range(5):\n",
    "    # encode the new user input, add the eos_token and return a tensor in Pytorch\n",
    "    new_user_input_ids = tokenizer.encode(input(\">> User:\") + tokenizer.eos_token, return_tensors='pt')\n",
    "\n",
    "    # append the new user input tokens to the chat history\n",
    "    bot_input_ids = torch.cat([chat_history_ids, new_user_input_ids], dim=-1) if step > 0 else new_user_input_ids\n",
    "\n",
    "    # generated a response while limiting the total chat history to 1000 tokens, \n",
    "    chat_history_ids = model.generate(bot_input_ids, max_length=1000, pad_token_id=tokenizer.eos_token_id)\n",
    "\n",
    "    # pretty print last ouput tokens from bot\n",
    "    print(\"DialoGPT: {}\".format(tokenizer.decode(chat_history_ids[:, bot_input_ids.shape[-1]:][0], skip_special_tokens=True)))\n"
   ]
  },
  {
   "cell_type": "code",
   "execution_count": null,
   "id": "f6154465-9151-494e-83f8-707fa2f7966e",
   "metadata": {},
   "outputs": [],
   "source": []
  }
 ],
 "metadata": {
  "kernelspec": {
   "display_name": "Python 3.9",
   "language": "python",
   "name": "python3"
  },
  "language_info": {
   "codemirror_mode": {
    "name": "ipython",
    "version": 3
   },
   "file_extension": ".py",
   "mimetype": "text/x-python",
   "name": "python",
   "nbconvert_exporter": "python",
   "pygments_lexer": "ipython3",
   "version": "3.9.16"
  }
 },
 "nbformat": 4,
 "nbformat_minor": 5
}
